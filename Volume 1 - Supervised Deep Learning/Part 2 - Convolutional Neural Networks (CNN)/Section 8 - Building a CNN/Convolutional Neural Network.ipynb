{
 "cells": [
  {
   "cell_type": "markdown",
   "metadata": {},
   "source": [
    "# Part 1 - Building the CNN"
   ]
  },
  {
   "cell_type": "code",
   "execution_count": 1,
   "metadata": {},
   "outputs": [
    {
     "name": "stderr",
     "output_type": "stream",
     "text": [
      "Using TensorFlow backend.\n"
     ]
    }
   ],
   "source": [
    "# Importing the Keras libraries and packages\n",
    "from keras.models import Sequential\n",
    "from keras.layers import Conv2D\n",
    "from keras.layers import MaxPooling2D\n",
    "from keras.layers import Flatten\n",
    "from keras.layers import Dense"
   ]
  },
  {
   "cell_type": "code",
   "execution_count": 2,
   "metadata": {},
   "outputs": [],
   "source": [
    "# Initialising the CNN\n",
    "classifier = Sequential()"
   ]
  },
  {
   "cell_type": "code",
   "execution_count": 3,
   "metadata": {},
   "outputs": [],
   "source": [
    "# Step 1 - Convolution\n",
    "classifier.add(Conv2D(32, (3, 3), input_shape = (64, 64, 3), activation = 'relu'))"
   ]
  },
  {
   "cell_type": "code",
   "execution_count": 4,
   "metadata": {},
   "outputs": [],
   "source": [
    "# Step 2 - Pooling\n",
    "classifier.add(MaxPooling2D(pool_size = (2, 2)))"
   ]
  },
  {
   "cell_type": "code",
   "execution_count": 5,
   "metadata": {},
   "outputs": [],
   "source": [
    "# Adding a second convolutional layer\n",
    "classifier.add(Conv2D(32, (3, 3), activation = 'relu'))\n",
    "classifier.add(MaxPooling2D(pool_size = (2, 2)))"
   ]
  },
  {
   "cell_type": "code",
   "execution_count": 6,
   "metadata": {},
   "outputs": [],
   "source": [
    "# Step 3 - Flattening\n",
    "classifier.add(Flatten())"
   ]
  },
  {
   "cell_type": "code",
   "execution_count": 7,
   "metadata": {},
   "outputs": [],
   "source": [
    "# Step 4 - Full connection\n",
    "classifier.add(Dense(units = 128, activation = 'relu'))\n",
    "classifier.add(Dense(units = 1, activation = 'sigmoid'))"
   ]
  },
  {
   "cell_type": "code",
   "execution_count": 8,
   "metadata": {},
   "outputs": [],
   "source": [
    "# Compiling the CNN\n",
    "classifier.compile(optimizer = 'adam', loss = 'binary_crossentropy', metrics = ['accuracy'])"
   ]
  },
  {
   "cell_type": "markdown",
   "metadata": {},
   "source": [
    "# Part 2 - Fitting the CNN to the images"
   ]
  },
  {
   "cell_type": "code",
   "execution_count": 9,
   "metadata": {},
   "outputs": [],
   "source": [
    "from keras.preprocessing.image import ImageDataGenerator"
   ]
  },
  {
   "cell_type": "code",
   "execution_count": 10,
   "metadata": {},
   "outputs": [],
   "source": [
    "train_datagen = ImageDataGenerator(rescale = 1./255,\n",
    "                                   shear_range = 0.2,\n",
    "                                   zoom_range = 0.2,\n",
    "                                   horizontal_flip = True)"
   ]
  },
  {
   "cell_type": "code",
   "execution_count": 11,
   "metadata": {},
   "outputs": [],
   "source": [
    "test_datagen = ImageDataGenerator(rescale = 1./255)"
   ]
  },
  {
   "cell_type": "code",
   "execution_count": 12,
   "metadata": {},
   "outputs": [
    {
     "name": "stdout",
     "output_type": "stream",
     "text": [
      "Found 8000 images belonging to 2 classes.\n"
     ]
    }
   ],
   "source": [
    "training_set = train_datagen.flow_from_directory('dataset/training_set',\n",
    "                                                 target_size = (64, 64),\n",
    "                                                 batch_size = 32,\n",
    "                                                 class_mode = 'binary')"
   ]
  },
  {
   "cell_type": "code",
   "execution_count": 13,
   "metadata": {},
   "outputs": [
    {
     "name": "stdout",
     "output_type": "stream",
     "text": [
      "Found 2000 images belonging to 2 classes.\n"
     ]
    }
   ],
   "source": [
    "test_set = test_datagen.flow_from_directory('dataset/test_set',\n",
    "                                            target_size = (64, 64),\n",
    "                                            batch_size = 32,\n",
    "                                            class_mode = 'binary')"
   ]
  },
  {
   "cell_type": "code",
   "execution_count": 14,
   "metadata": {},
   "outputs": [
    {
     "name": "stdout",
     "output_type": "stream",
     "text": [
      "Epoch 1/25\n",
      "8000/8000 [==============================] - 2597s 325ms/step - loss: 0.3820 - accuracy: 0.8192 - val_loss: 0.1007 - val_accuracy: 0.8080\n",
      "Epoch 2/25\n",
      "8000/8000 [==============================] - 2876s 360ms/step - loss: 0.1399 - accuracy: 0.9449 - val_loss: 0.8572 - val_accuracy: 0.8062\n",
      "Epoch 3/25\n",
      "8000/8000 [==============================] - 2762s 345ms/step - loss: 0.0693 - accuracy: 0.9744 - val_loss: 0.6345 - val_accuracy: 0.8063\n",
      "Epoch 4/25\n",
      "8000/8000 [==============================] - 2893s 362ms/step - loss: 0.0477 - accuracy: 0.9828 - val_loss: 1.7751 - val_accuracy: 0.8081\n",
      "Epoch 5/25\n",
      "8000/8000 [==============================] - 2677s 335ms/step - loss: 0.0373 - accuracy: 0.9869 - val_loss: 0.8112 - val_accuracy: 0.8105\n",
      "Epoch 6/25\n",
      "8000/8000 [==============================] - 2638s 330ms/step - loss: 0.0303 - accuracy: 0.9895 - val_loss: 1.1249 - val_accuracy: 0.8025\n",
      "Epoch 7/25\n",
      "8000/8000 [==============================] - 2625s 328ms/step - loss: 0.0265 - accuracy: 0.9911 - val_loss: 1.3187 - val_accuracy: 0.8090\n",
      "Epoch 8/25\n",
      "8000/8000 [==============================] - 2567s 321ms/step - loss: 0.0231 - accuracy: 0.9922 - val_loss: 0.9989 - val_accuracy: 0.8037\n",
      "Epoch 9/25\n",
      "8000/8000 [==============================] - 2574s 322ms/step - loss: 0.0196 - accuracy: 0.9933 - val_loss: 1.8130 - val_accuracy: 0.7926\n",
      "Epoch 10/25\n",
      "8000/8000 [==============================] - 2570s 321ms/step - loss: 0.0186 - accuracy: 0.9939 - val_loss: 1.4608 - val_accuracy: 0.8016\n",
      "Epoch 11/25\n",
      "8000/8000 [==============================] - 2642s 330ms/step - loss: 0.0165 - accuracy: 0.9943 - val_loss: 2.2787 - val_accuracy: 0.8078\n",
      "Epoch 12/25\n",
      "8000/8000 [==============================] - 2792s 349ms/step - loss: 0.0155 - accuracy: 0.9950 - val_loss: 2.1649 - val_accuracy: 0.7998\n",
      "Epoch 13/25\n",
      "8000/8000 [==============================] - 2923s 365ms/step - loss: 0.0139 - accuracy: 0.9954 - val_loss: 2.4932 - val_accuracy: 0.8113\n",
      "Epoch 14/25\n",
      "8000/8000 [==============================] - 3002s 375ms/step - loss: 0.0140 - accuracy: 0.9956 - val_loss: 1.6046 - val_accuracy: 0.7966\n",
      "Epoch 15/25\n",
      "8000/8000 [==============================] - 2719s 340ms/step - loss: 0.0117 - accuracy: 0.9963 - val_loss: 1.8893 - val_accuracy: 0.8011\n",
      "Epoch 16/25\n",
      "8000/8000 [==============================] - 2502s 313ms/step - loss: 0.0117 - accuracy: 0.9962 - val_loss: 0.9816 - val_accuracy: 0.8020\n",
      "Epoch 17/25\n",
      "8000/8000 [==============================] - 2499s 312ms/step - loss: 0.0112 - accuracy: 0.9963 - val_loss: 3.2938 - val_accuracy: 0.8023\n",
      "Epoch 18/25\n",
      "8000/8000 [==============================] - 2499s 312ms/step - loss: 0.0109 - accuracy: 0.9965 - val_loss: 1.8932 - val_accuracy: 0.8037\n",
      "Epoch 19/25\n",
      "8000/8000 [==============================] - 2496s 312ms/step - loss: 0.0106 - accuracy: 0.9967 - val_loss: 1.9453 - val_accuracy: 0.8027\n",
      "Epoch 20/25\n",
      "8000/8000 [==============================] - 2505s 313ms/step - loss: 0.0101 - accuracy: 0.9970 - val_loss: 0.9929 - val_accuracy: 0.8096\n",
      "Epoch 21/25\n",
      "8000/8000 [==============================] - 2501s 313ms/step - loss: 0.0091 - accuracy: 0.9971 - val_loss: 2.5916 - val_accuracy: 0.8000\n",
      "Epoch 22/25\n",
      "8000/8000 [==============================] - 2589s 324ms/step - loss: 0.0090 - accuracy: 0.9973 - val_loss: 1.3421 - val_accuracy: 0.8075\n",
      "Epoch 23/25\n",
      "8000/8000 [==============================] - 2603s 325ms/step - loss: 0.0086 - accuracy: 0.9974 - val_loss: 1.1902 - val_accuracy: 0.8045\n",
      "Epoch 24/25\n",
      "8000/8000 [==============================] - 2608s 326ms/step - loss: 0.0086 - accuracy: 0.9973 - val_loss: 2.8003 - val_accuracy: 0.8079\n",
      "Epoch 25/25\n",
      "8000/8000 [==============================] - 2652s 331ms/step - loss: 0.0082 - accuracy: 0.9974 - val_loss: 3.0281 - val_accuracy: 0.8086\n"
     ]
    },
    {
     "data": {
      "text/plain": [
       "<keras.callbacks.callbacks.History at 0x7f0be429c6d0>"
      ]
     },
     "execution_count": 14,
     "metadata": {},
     "output_type": "execute_result"
    }
   ],
   "source": [
    "classifier.fit_generator(training_set,\n",
    "                         steps_per_epoch = 8000,\n",
    "                         epochs = 25,\n",
    "                         validation_data = test_set,\n",
    "                         validation_steps = 2000)"
   ]
  },
  {
   "cell_type": "markdown",
   "metadata": {},
   "source": [
    "# Part 3 - Making new predictions"
   ]
  },
  {
   "cell_type": "code",
   "execution_count": 21,
   "metadata": {},
   "outputs": [
    {
     "data": {
      "text/plain": [
       "{'cats': 0, 'dogs': 1}"
      ]
     },
     "execution_count": 21,
     "metadata": {},
     "output_type": "execute_result"
    }
   ],
   "source": [
    "import numpy as np\n",
    "from keras.preprocessing import image\n",
    "test_image = image.load_img('dataset/single_prediction/cat_or_dog_2.jpg', target_size = (64, 64))\n",
    "test_image = image.img_to_array(test_image)\n",
    "test_image = np.expand_dims(test_image, axis = 0)\n",
    "result = classifier.predict(test_image)\n",
    "training_set.class_indices\n"
   ]
  },
  {
   "cell_type": "code",
   "execution_count": 22,
   "metadata": {},
   "outputs": [],
   "source": [
    "if result[0][0] == 1:\n",
    "    prediction = 'dog'\n",
    "else:\n",
    "    prediction = 'cat'"
   ]
  },
  {
   "cell_type": "code",
   "execution_count": 23,
   "metadata": {},
   "outputs": [
    {
     "data": {
      "text/plain": [
       "'cat'"
      ]
     },
     "execution_count": 23,
     "metadata": {},
     "output_type": "execute_result"
    }
   ],
   "source": [
    "prediction"
   ]
  },
  {
   "cell_type": "code",
   "execution_count": null,
   "metadata": {},
   "outputs": [],
   "source": []
  }
 ],
 "metadata": {
  "kernelspec": {
   "display_name": "Python 3",
   "language": "python",
   "name": "python3"
  },
  "language_info": {
   "codemirror_mode": {
    "name": "ipython",
    "version": 3
   },
   "file_extension": ".py",
   "mimetype": "text/x-python",
   "name": "python",
   "nbconvert_exporter": "python",
   "pygments_lexer": "ipython3",
   "version": "3.7.7"
  },
  "varInspector": {
   "cols": {
    "lenName": 16,
    "lenType": 16,
    "lenVar": 40
   },
   "kernels_config": {
    "python": {
     "delete_cmd_postfix": "",
     "delete_cmd_prefix": "del ",
     "library": "var_list.py",
     "varRefreshCmd": "print(var_dic_list())"
    },
    "r": {
     "delete_cmd_postfix": ") ",
     "delete_cmd_prefix": "rm(",
     "library": "var_list.r",
     "varRefreshCmd": "cat(var_dic_list()) "
    }
   },
   "oldHeight": 361,
   "position": {
    "height": "383px",
    "left": "926px",
    "right": "20px",
    "top": "120px",
    "width": "350px"
   },
   "types_to_exclude": [
    "module",
    "function",
    "builtin_function_or_method",
    "instance",
    "_Feature"
   ],
   "varInspector_section_display": "block",
   "window_display": false
  }
 },
 "nbformat": 4,
 "nbformat_minor": 4
}
