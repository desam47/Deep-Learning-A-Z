{
 "cells": [
  {
   "cell_type": "code",
   "execution_count": 1,
   "metadata": {
    "ExecuteTime": {
     "end_time": "2020-04-25T22:35:44.017324Z",
     "start_time": "2020-04-25T22:35:43.322011Z"
    }
   },
   "outputs": [],
   "source": [
    "# Importing the libraries\n",
    "import numpy as np\n",
    "import pandas as pd\n",
    "import torch\n",
    "import torch.nn as nn\n",
    "import torch.nn.parallel\n",
    "import torch.optim as optim\n",
    "import torch.utils.data\n",
    "from torch.autograd import Variable"
   ]
  },
  {
   "cell_type": "code",
   "execution_count": 2,
   "metadata": {
    "ExecuteTime": {
     "end_time": "2020-04-25T22:35:48.715722Z",
     "start_time": "2020-04-25T22:35:44.019905Z"
    }
   },
   "outputs": [],
   "source": [
    "# Importing the dataset\n",
    "movies = pd.read_csv('ml-1m/movies.dat', sep = '::', header = None, engine = 'python', encoding = 'latin-1')\n",
    "users = pd.read_csv('ml-1m/users.dat', sep = '::', header = None, engine = 'python', encoding = 'latin-1')\n",
    "ratings = pd.read_csv('ml-1m/ratings.dat', sep = '::', header = None, engine = 'python', encoding = 'latin-1')"
   ]
  },
  {
   "cell_type": "code",
   "execution_count": 3,
   "metadata": {
    "ExecuteTime": {
     "end_time": "2020-04-25T22:35:48.761734Z",
     "start_time": "2020-04-25T22:35:48.718448Z"
    }
   },
   "outputs": [],
   "source": [
    "# Preparing the training set and the test set\n",
    "training_set = pd.read_csv('ml-100k/u1.base', delimiter = '\\t')\n",
    "training_set = np.array(training_set, dtype = 'int')\n",
    "test_set = pd.read_csv('ml-100k/u1.test', delimiter = '\\t')\n",
    "test_set = np.array(test_set, dtype = 'int')"
   ]
  },
  {
   "cell_type": "code",
   "execution_count": 4,
   "metadata": {
    "ExecuteTime": {
     "end_time": "2020-04-25T22:35:48.830826Z",
     "start_time": "2020-04-25T22:35:48.763015Z"
    }
   },
   "outputs": [],
   "source": [
    "# Getting the number of users and movies\n",
    "nb_users = int(max(max(training_set[:,0]), max(test_set[:,0])))\n",
    "nb_movies = int(max(max(training_set[:,1]), max(test_set[:,1])))"
   ]
  },
  {
   "cell_type": "code",
   "execution_count": 5,
   "metadata": {
    "ExecuteTime": {
     "end_time": "2020-04-25T22:35:49.296817Z",
     "start_time": "2020-04-25T22:35:48.832745Z"
    }
   },
   "outputs": [],
   "source": [
    "# Converting the data into an array with users in lines and movies in columns\n",
    "def convert(data):\n",
    "    new_data = []\n",
    "    for id_users in range(1, nb_users + 1):\n",
    "        id_movies = data[:,1][data[:,0] == id_users]\n",
    "        id_ratings = data[:,2][data[:,0] == id_users]\n",
    "        ratings = np.zeros(nb_movies)\n",
    "        ratings[id_movies - 1] = id_ratings\n",
    "        new_data.append(list(ratings))\n",
    "    return new_data\n",
    "training_set = convert(training_set)\n",
    "test_set = convert(test_set)\n"
   ]
  },
  {
   "cell_type": "code",
   "execution_count": 6,
   "metadata": {
    "ExecuteTime": {
     "end_time": "2020-04-25T22:35:49.563993Z",
     "start_time": "2020-04-25T22:35:49.298403Z"
    }
   },
   "outputs": [],
   "source": [
    "# Converting the data into Torch tensors\n",
    "training_set = torch.FloatTensor(training_set)\n",
    "test_set = torch.FloatTensor(test_set)\n"
   ]
  },
  {
   "cell_type": "code",
   "execution_count": 7,
   "metadata": {
    "ExecuteTime": {
     "end_time": "2020-04-25T22:35:49.575506Z",
     "start_time": "2020-04-25T22:35:49.566117Z"
    }
   },
   "outputs": [],
   "source": [
    "# Creating the architecture of the Neural Network\n",
    "class SAE(nn.Module):\n",
    "    def __init__(self, ):\n",
    "        super(SAE, self).__init__()\n",
    "        self.fc1 = nn.Linear(nb_movies, 20)\n",
    "        self.fc2 = nn.Linear(20, 10)\n",
    "        self.fc3 = nn.Linear(10, 20)\n",
    "        self.fc4 = nn.Linear(20, nb_movies)\n",
    "        self.activation = nn.Sigmoid()\n",
    "    def forward(self, x):\n",
    "        x = self.activation(self.fc1(x))\n",
    "        x = self.activation(self.fc2(x))\n",
    "        x = self.activation(self.fc3(x))\n",
    "        x = self.fc4(x)\n",
    "        return x\n",
    "sae = SAE()\n",
    "criterion = nn.MSELoss()\n",
    "optimizer = optim.RMSprop(sae.parameters(), lr = 0.01, weight_decay = 0.5)"
   ]
  },
  {
   "cell_type": "code",
   "execution_count": 8,
   "metadata": {
    "ExecuteTime": {
     "end_time": "2020-04-25T22:42:15.404200Z",
     "start_time": "2020-04-25T22:35:49.578239Z"
    }
   },
   "outputs": [
    {
     "name": "stdout",
     "output_type": "stream",
     "text": [
      "epoch: 1 loss: tensor(1.7710)\n",
      "epoch: 2 loss: tensor(1.0969)\n",
      "epoch: 3 loss: tensor(1.0535)\n",
      "epoch: 4 loss: tensor(1.0385)\n",
      "epoch: 5 loss: tensor(1.0308)\n",
      "epoch: 6 loss: tensor(1.0266)\n",
      "epoch: 7 loss: tensor(1.0238)\n",
      "epoch: 8 loss: tensor(1.0219)\n",
      "epoch: 9 loss: tensor(1.0207)\n",
      "epoch: 10 loss: tensor(1.0198)\n",
      "epoch: 11 loss: tensor(1.0186)\n",
      "epoch: 12 loss: tensor(1.0185)\n",
      "epoch: 13 loss: tensor(1.0179)\n",
      "epoch: 14 loss: tensor(1.0176)\n",
      "epoch: 15 loss: tensor(1.0172)\n",
      "epoch: 16 loss: tensor(1.0168)\n",
      "epoch: 17 loss: tensor(1.0166)\n",
      "epoch: 18 loss: tensor(1.0166)\n",
      "epoch: 19 loss: tensor(1.0165)\n",
      "epoch: 20 loss: tensor(1.0161)\n",
      "epoch: 21 loss: tensor(1.0161)\n",
      "epoch: 22 loss: tensor(1.0161)\n",
      "epoch: 23 loss: tensor(1.0158)\n",
      "epoch: 24 loss: tensor(1.0159)\n",
      "epoch: 25 loss: tensor(1.0157)\n",
      "epoch: 26 loss: tensor(1.0155)\n",
      "epoch: 27 loss: tensor(1.0151)\n",
      "epoch: 28 loss: tensor(1.0154)\n",
      "epoch: 29 loss: tensor(1.0129)\n",
      "epoch: 30 loss: tensor(1.0112)\n",
      "epoch: 31 loss: tensor(1.0107)\n",
      "epoch: 32 loss: tensor(1.0082)\n",
      "epoch: 33 loss: tensor(1.0076)\n",
      "epoch: 34 loss: tensor(1.0045)\n",
      "epoch: 35 loss: tensor(1.0032)\n",
      "epoch: 36 loss: tensor(1.0006)\n",
      "epoch: 37 loss: tensor(0.9985)\n",
      "epoch: 38 loss: tensor(0.9954)\n",
      "epoch: 39 loss: tensor(0.9962)\n",
      "epoch: 40 loss: tensor(0.9932)\n",
      "epoch: 41 loss: tensor(0.9931)\n",
      "epoch: 42 loss: tensor(0.9953)\n",
      "epoch: 43 loss: tensor(0.9930)\n",
      "epoch: 44 loss: tensor(0.9903)\n",
      "epoch: 45 loss: tensor(0.9896)\n",
      "epoch: 46 loss: tensor(0.9847)\n",
      "epoch: 47 loss: tensor(0.9823)\n",
      "epoch: 48 loss: tensor(0.9823)\n",
      "epoch: 49 loss: tensor(0.9824)\n",
      "epoch: 50 loss: tensor(0.9798)\n",
      "epoch: 51 loss: tensor(0.9751)\n",
      "epoch: 52 loss: tensor(0.9714)\n",
      "epoch: 53 loss: tensor(0.9722)\n",
      "epoch: 54 loss: tensor(0.9715)\n",
      "epoch: 55 loss: tensor(0.9705)\n",
      "epoch: 56 loss: tensor(0.9659)\n",
      "epoch: 57 loss: tensor(0.9662)\n",
      "epoch: 58 loss: tensor(0.9616)\n",
      "epoch: 59 loss: tensor(0.9638)\n",
      "epoch: 60 loss: tensor(0.9625)\n",
      "epoch: 61 loss: tensor(0.9635)\n",
      "epoch: 62 loss: tensor(0.9637)\n",
      "epoch: 63 loss: tensor(0.9765)\n",
      "epoch: 64 loss: tensor(0.9769)\n",
      "epoch: 65 loss: tensor(0.9687)\n",
      "epoch: 66 loss: tensor(0.9675)\n",
      "epoch: 67 loss: tensor(0.9649)\n",
      "epoch: 68 loss: tensor(0.9670)\n",
      "epoch: 69 loss: tensor(0.9700)\n",
      "epoch: 70 loss: tensor(0.9660)\n",
      "epoch: 71 loss: tensor(0.9624)\n",
      "epoch: 72 loss: tensor(0.9634)\n",
      "epoch: 73 loss: tensor(0.9630)\n",
      "epoch: 74 loss: tensor(0.9587)\n",
      "epoch: 75 loss: tensor(0.9634)\n",
      "epoch: 76 loss: tensor(0.9615)\n",
      "epoch: 77 loss: tensor(0.9575)\n",
      "epoch: 78 loss: tensor(0.9566)\n",
      "epoch: 79 loss: tensor(0.9557)\n",
      "epoch: 80 loss: tensor(0.9546)\n",
      "epoch: 81 loss: tensor(0.9543)\n",
      "epoch: 82 loss: tensor(0.9534)\n",
      "epoch: 83 loss: tensor(0.9510)\n",
      "epoch: 84 loss: tensor(0.9476)\n",
      "epoch: 85 loss: tensor(0.9494)\n",
      "epoch: 86 loss: tensor(0.9452)\n",
      "epoch: 87 loss: tensor(0.9496)\n",
      "epoch: 88 loss: tensor(0.9496)\n",
      "epoch: 89 loss: tensor(0.9469)\n",
      "epoch: 90 loss: tensor(0.9456)\n",
      "epoch: 91 loss: tensor(0.9456)\n",
      "epoch: 92 loss: tensor(0.9435)\n",
      "epoch: 93 loss: tensor(0.9437)\n",
      "epoch: 94 loss: tensor(0.9438)\n",
      "epoch: 95 loss: tensor(0.9425)\n",
      "epoch: 96 loss: tensor(0.9407)\n",
      "epoch: 97 loss: tensor(0.9416)\n",
      "epoch: 98 loss: tensor(0.9399)\n",
      "epoch: 99 loss: tensor(0.9413)\n",
      "epoch: 100 loss: tensor(0.9407)\n",
      "epoch: 101 loss: tensor(0.9405)\n",
      "epoch: 102 loss: tensor(0.9374)\n",
      "epoch: 103 loss: tensor(0.9379)\n",
      "epoch: 104 loss: tensor(0.9362)\n",
      "epoch: 105 loss: tensor(0.9377)\n",
      "epoch: 106 loss: tensor(0.9359)\n",
      "epoch: 107 loss: tensor(0.9364)\n",
      "epoch: 108 loss: tensor(0.9351)\n",
      "epoch: 109 loss: tensor(0.9352)\n",
      "epoch: 110 loss: tensor(0.9346)\n",
      "epoch: 111 loss: tensor(0.9352)\n",
      "epoch: 112 loss: tensor(0.9343)\n",
      "epoch: 113 loss: tensor(0.9346)\n",
      "epoch: 114 loss: tensor(0.9331)\n",
      "epoch: 115 loss: tensor(0.9350)\n",
      "epoch: 116 loss: tensor(0.9328)\n",
      "epoch: 117 loss: tensor(0.9333)\n",
      "epoch: 118 loss: tensor(0.9320)\n",
      "epoch: 119 loss: tensor(0.9327)\n",
      "epoch: 120 loss: tensor(0.9314)\n",
      "epoch: 121 loss: tensor(0.9319)\n",
      "epoch: 122 loss: tensor(0.9306)\n",
      "epoch: 123 loss: tensor(0.9312)\n",
      "epoch: 124 loss: tensor(0.9299)\n",
      "epoch: 125 loss: tensor(0.9303)\n",
      "epoch: 126 loss: tensor(0.9298)\n",
      "epoch: 127 loss: tensor(0.9300)\n",
      "epoch: 128 loss: tensor(0.9290)\n",
      "epoch: 129 loss: tensor(0.9294)\n",
      "epoch: 130 loss: tensor(0.9283)\n",
      "epoch: 131 loss: tensor(0.9292)\n",
      "epoch: 132 loss: tensor(0.9278)\n",
      "epoch: 133 loss: tensor(0.9284)\n",
      "epoch: 134 loss: tensor(0.9269)\n",
      "epoch: 135 loss: tensor(0.9279)\n",
      "epoch: 136 loss: tensor(0.9269)\n",
      "epoch: 137 loss: tensor(0.9274)\n",
      "epoch: 138 loss: tensor(0.9263)\n",
      "epoch: 139 loss: tensor(0.9269)\n",
      "epoch: 140 loss: tensor(0.9255)\n",
      "epoch: 141 loss: tensor(0.9263)\n",
      "epoch: 142 loss: tensor(0.9251)\n",
      "epoch: 143 loss: tensor(0.9263)\n",
      "epoch: 144 loss: tensor(0.9255)\n",
      "epoch: 145 loss: tensor(0.9263)\n",
      "epoch: 146 loss: tensor(0.9247)\n",
      "epoch: 147 loss: tensor(0.9257)\n",
      "epoch: 148 loss: tensor(0.9239)\n",
      "epoch: 149 loss: tensor(0.9247)\n",
      "epoch: 150 loss: tensor(0.9234)\n",
      "epoch: 151 loss: tensor(0.9241)\n",
      "epoch: 152 loss: tensor(0.9233)\n",
      "epoch: 153 loss: tensor(0.9238)\n",
      "epoch: 154 loss: tensor(0.9223)\n",
      "epoch: 155 loss: tensor(0.9232)\n",
      "epoch: 156 loss: tensor(0.9223)\n",
      "epoch: 157 loss: tensor(0.9226)\n",
      "epoch: 158 loss: tensor(0.9218)\n",
      "epoch: 159 loss: tensor(0.9223)\n",
      "epoch: 160 loss: tensor(0.9218)\n",
      "epoch: 161 loss: tensor(0.9218)\n",
      "epoch: 162 loss: tensor(0.9203)\n",
      "epoch: 163 loss: tensor(0.9210)\n",
      "epoch: 164 loss: tensor(0.9202)\n",
      "epoch: 165 loss: tensor(0.9205)\n",
      "epoch: 166 loss: tensor(0.9201)\n",
      "epoch: 167 loss: tensor(0.9204)\n",
      "epoch: 168 loss: tensor(0.9195)\n",
      "epoch: 169 loss: tensor(0.9200)\n",
      "epoch: 170 loss: tensor(0.9193)\n",
      "epoch: 171 loss: tensor(0.9198)\n",
      "epoch: 172 loss: tensor(0.9193)\n",
      "epoch: 173 loss: tensor(0.9195)\n",
      "epoch: 174 loss: tensor(0.9189)\n",
      "epoch: 175 loss: tensor(0.9193)\n",
      "epoch: 176 loss: tensor(0.9188)\n",
      "epoch: 177 loss: tensor(0.9188)\n",
      "epoch: 178 loss: tensor(0.9183)\n",
      "epoch: 179 loss: tensor(0.9185)\n",
      "epoch: 180 loss: tensor(0.9177)\n",
      "epoch: 181 loss: tensor(0.9181)\n",
      "epoch: 182 loss: tensor(0.9177)\n",
      "epoch: 183 loss: tensor(0.9181)\n",
      "epoch: 184 loss: tensor(0.9179)\n",
      "epoch: 185 loss: tensor(0.9175)\n",
      "epoch: 186 loss: tensor(0.9169)\n",
      "epoch: 187 loss: tensor(0.9171)\n",
      "epoch: 188 loss: tensor(0.9167)\n",
      "epoch: 189 loss: tensor(0.9171)\n",
      "epoch: 190 loss: tensor(0.9167)\n",
      "epoch: 191 loss: tensor(0.9167)\n",
      "epoch: 192 loss: tensor(0.9162)\n",
      "epoch: 193 loss: tensor(0.9162)\n",
      "epoch: 194 loss: tensor(0.9156)\n",
      "epoch: 195 loss: tensor(0.9160)\n",
      "epoch: 196 loss: tensor(0.9157)\n",
      "epoch: 197 loss: tensor(0.9159)\n",
      "epoch: 198 loss: tensor(0.9156)\n",
      "epoch: 199 loss: tensor(0.9157)\n",
      "epoch: 200 loss: tensor(0.9153)\n"
     ]
    }
   ],
   "source": [
    "# Training the SAE\n",
    "nb_epoch = 200\n",
    "for epoch in range(1, nb_epoch + 1):\n",
    "    train_loss = 0\n",
    "    s = 0.\n",
    "    for id_user in range(nb_users):\n",
    "        input = Variable(training_set[id_user]).unsqueeze(0)\n",
    "        target = input.clone()\n",
    "        if torch.sum(target.data > 0) > 0:\n",
    "            output = sae(input)\n",
    "            target.require_grad = False\n",
    "            output[target == 0] = 0\n",
    "            loss = criterion(output, target)\n",
    "            mean_corrector = nb_movies/float(torch.sum(target.data > 0) + 1e-10)\n",
    "            loss.backward()\n",
    "            train_loss += np.sqrt(loss.data*mean_corrector)\n",
    "            s += 1.\n",
    "            optimizer.step()\n",
    "    print('epoch: '+str(epoch)+' loss: '+str(train_loss/s))"
   ]
  },
  {
   "cell_type": "code",
   "execution_count": 13,
   "metadata": {
    "ExecuteTime": {
     "end_time": "2020-04-25T23:01:33.274996Z",
     "start_time": "2020-04-25T23:01:32.859780Z"
    }
   },
   "outputs": [
    {
     "name": "stderr",
     "output_type": "stream",
     "text": [
      "/home/dipesh/anaconda3/envs/venv/lib/python3.7/site-packages/torch/nn/modules/loss.py:432: UserWarning: Using a target size (torch.Size([1682])) that is different to the input size (torch.Size([1, 1682])). This will likely lead to incorrect results due to broadcasting. Please ensure they have the same size.\n",
      "  return F.mse_loss(input, target, reduction=self.reduction)\n"
     ]
    },
    {
     "name": "stdout",
     "output_type": "stream",
     "text": [
      "test loss: tensor(0.9491)\n"
     ]
    }
   ],
   "source": [
    "# Testing the SAE\n",
    "test_loss = 0\n",
    "s = 0.\n",
    "for id_user in range(nb_users):\n",
    "    input = Variable(training_set[id_user]).unsqueeze(0)\n",
    "    target = Variable(test_set[id_user])\n",
    "    if torch.sum(target.data > 0) > 0:\n",
    "        output = sae(input)\n",
    "        target.require_grad = False\n",
    "        output[(target == 0).unsqueeze(0)] = 0\n",
    "        loss = criterion(output, target)\n",
    "        mean_corrector = nb_movies/float(torch.sum(target.data > 0) + 1e-10)\n",
    "        test_loss += np.sqrt(loss.data*mean_corrector)\n",
    "        s += 1.\n",
    "print('test loss: '+str(test_loss/s))"
   ]
  },
  {
   "cell_type": "code",
   "execution_count": null,
   "metadata": {},
   "outputs": [],
   "source": []
  }
 ],
 "metadata": {
  "kernelspec": {
   "display_name": "Python 3",
   "language": "python",
   "name": "python3"
  },
  "language_info": {
   "codemirror_mode": {
    "name": "ipython",
    "version": 3
   },
   "file_extension": ".py",
   "mimetype": "text/x-python",
   "name": "python",
   "nbconvert_exporter": "python",
   "pygments_lexer": "ipython3",
   "version": "3.7.7"
  },
  "varInspector": {
   "cols": {
    "lenName": 16,
    "lenType": 16,
    "lenVar": 40
   },
   "kernels_config": {
    "python": {
     "delete_cmd_postfix": "",
     "delete_cmd_prefix": "del ",
     "library": "var_list.py",
     "varRefreshCmd": "print(var_dic_list())"
    },
    "r": {
     "delete_cmd_postfix": ") ",
     "delete_cmd_prefix": "rm(",
     "library": "var_list.r",
     "varRefreshCmd": "cat(var_dic_list()) "
    }
   },
   "types_to_exclude": [
    "module",
    "function",
    "builtin_function_or_method",
    "instance",
    "_Feature"
   ],
   "window_display": false
  }
 },
 "nbformat": 4,
 "nbformat_minor": 4
}
